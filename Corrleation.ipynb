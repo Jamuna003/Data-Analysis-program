{
 "cells": [
  {
   "cell_type": "code",
   "execution_count": 8,
   "metadata": {},
   "outputs": [],
   "source": [
    "import numpy as np\n",
    "import pandas as pd\n",
    "import fix_yahoo_finance as fyf\n",
    "import matplotlib.pyplot as plt\n"
   ]
  },
  {
   "cell_type": "code",
   "execution_count": 9,
   "metadata": {},
   "outputs": [
    {
     "data": {
      "text/html": [
       "<div>\n",
       "<style scoped>\n",
       "    .dataframe tbody tr th:only-of-type {\n",
       "        vertical-align: middle;\n",
       "    }\n",
       "\n",
       "    .dataframe tbody tr th {\n",
       "        vertical-align: top;\n",
       "    }\n",
       "\n",
       "    .dataframe thead th {\n",
       "        text-align: right;\n",
       "    }\n",
       "</style>\n",
       "<table border=\"1\" class=\"dataframe\">\n",
       "  <thead>\n",
       "    <tr style=\"text-align: right;\">\n",
       "      <th></th>\n",
       "      <th>Id</th>\n",
       "      <th>Name</th>\n",
       "      <th>Country</th>\n",
       "      <th>Employees</th>\n",
       "      <th>Ownership</th>\n",
       "      <th>Revenue</th>\n",
       "      <th>Industry</th>\n",
       "    </tr>\n",
       "  </thead>\n",
       "  <tbody>\n",
       "    <tr>\n",
       "      <th>0</th>\n",
       "      <td>1</td>\n",
       "      <td>Bean and Sons</td>\n",
       "      <td>Thailand</td>\n",
       "      <td>NaN</td>\n",
       "      <td>Private</td>\n",
       "      <td>928502.0</td>\n",
       "      <td>Construction</td>\n",
       "    </tr>\n",
       "    <tr>\n",
       "      <th>1</th>\n",
       "      <td>2</td>\n",
       "      <td>Roberts, Smith and Cook</td>\n",
       "      <td>Thailand</td>\n",
       "      <td>2889.0</td>\n",
       "      <td>Private</td>\n",
       "      <td>NaN</td>\n",
       "      <td>Education</td>\n",
       "    </tr>\n",
       "    <tr>\n",
       "      <th>2</th>\n",
       "      <td>3</td>\n",
       "      <td>Hubbard-Orozco</td>\n",
       "      <td>Malaysia</td>\n",
       "      <td>4373.0</td>\n",
       "      <td>Public</td>\n",
       "      <td>35471809.0</td>\n",
       "      <td>Information Technology</td>\n",
       "    </tr>\n",
       "    <tr>\n",
       "      <th>3</th>\n",
       "      <td>4</td>\n",
       "      <td>Vasquez, Stokes and Cruz</td>\n",
       "      <td>Thailand</td>\n",
       "      <td>4529.0</td>\n",
       "      <td>Public</td>\n",
       "      <td>61934857.0</td>\n",
       "      <td>Education</td>\n",
       "    </tr>\n",
       "    <tr>\n",
       "      <th>4</th>\n",
       "      <td>5</td>\n",
       "      <td>Chavez, Brown and Patterson</td>\n",
       "      <td>Singapore</td>\n",
       "      <td>103.0</td>\n",
       "      <td>Private</td>\n",
       "      <td>672509.0</td>\n",
       "      <td>Healthcare</td>\n",
       "    </tr>\n",
       "  </tbody>\n",
       "</table>\n",
       "</div>"
      ],
      "text/plain": [
       "   Id                         Name    Country  Employees Ownership  \\\n",
       "0   1                Bean and Sons   Thailand        NaN   Private   \n",
       "1   2      Roberts, Smith and Cook   Thailand     2889.0   Private   \n",
       "2   3               Hubbard-Orozco   Malaysia     4373.0    Public   \n",
       "3   4     Vasquez, Stokes and Cruz   Thailand     4529.0    Public   \n",
       "4   5  Chavez, Brown and Patterson  Singapore      103.0   Private   \n",
       "\n",
       "      Revenue                Industry  \n",
       "0    928502.0            Construction  \n",
       "1         NaN               Education  \n",
       "2  35471809.0  Information Technology  \n",
       "3  61934857.0               Education  \n",
       "4    672509.0              Healthcare  "
      ]
     },
     "execution_count": 9,
     "metadata": {},
     "output_type": "execute_result"
    }
   ],
   "source": [
    "correlation =pd.read_csv(\"C:/Users/Jamuna/Desktop/DataAnalysis_Leadbook/data_analysis/data.csv\")\n",
    "correlation.head()"
   ]
  },
  {
   "cell_type": "code",
   "execution_count": 10,
   "metadata": {},
   "outputs": [
    {
     "name": "stdout",
     "output_type": "stream",
     "text": [
      "                 Id  Employees   Revenue\n",
      "Id         1.000000  -0.001047  0.006145\n",
      "Employees -0.001047   1.000000  0.672174\n",
      "Revenue    0.006145   0.672174  1.000000\n"
     ]
    }
   ],
   "source": [
    "print(correlation.corr())"
   ]
  },
  {
   "cell_type": "code",
   "execution_count": 15,
   "metadata": {},
   "outputs": [
    {
     "data": {
      "image/png": "[encoded data removed]",
      "text/plain": [
       "<Figure size 432x288 with 2 Axes>"
      ]
     },
     "metadata": {
      "needs_background": "light"
     },
     "output_type": "display_data"
    }
   ],
   "source": [
    "corr = correlation.corr()\n",
    "fig = plt.figure()\n",
    "ax = fig.add_subplot(111)\n",
    "cax = ax.matshow(corr,cmap='coolwarm', vmin=-1, vmax=1)\n",
    "fig.colorbar(cax)\n",
    "ticks = np.arange(0,len(correlation.columns),1)\n",
    "ax.set_xticks(ticks)\n",
    "plt.xticks(rotation=90)\n",
    "ax.set_yticks(ticks)\n",
    "ax.set_xticklabels(correlation.columns)\n",
    "ax.set_yticklabels(correlation.columns)\n",
    "plt.show()"
   ]
  },
  {
   "cell_type": "code",
   "execution_count": null,
   "metadata": {},
   "outputs": [],
   "source": [
    "\n"
   ]
  },
  {
   "cell_type": "code",
   "execution_count": null,
   "metadata": {},
   "outputs": [],
   "source": []
  }
 ],
 "metadata": {
  "kernelspec": {
   "display_name": "Python 3",
   "language": "python",
   "name": "python3"
  },
  "language_info": {
   "codemirror_mode": {
    "name": "ipython",
    "version": 3
   },
   "file_extension": ".py",
   "mimetype": "text/x-python",
   "name": "python",
   "nbconvert_exporter": "python",
   "pygments_lexer": "ipython3",
   "version": "3.7.2"
  }
 },
 "nbformat": 4,
 "nbformat_minor": 2
}
